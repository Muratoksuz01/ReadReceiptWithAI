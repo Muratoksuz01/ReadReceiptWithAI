{
 "cells": [
  {
   "cell_type": "code",
   "execution_count": 1,
   "metadata": {},
   "outputs": [],
   "source": [
    "import os"
   ]
  },
  {
   "cell_type": "code",
   "execution_count": 2,
   "metadata": {},
   "outputs": [],
   "source": [
    "path=\"./alldata/\""
   ]
  },
  {
   "cell_type": "code",
   "execution_count": null,
   "metadata": {},
   "outputs": [],
   "source": [
    "os.listdir(path)"
   ]
  },
  {
   "cell_type": "code",
   "execution_count": 12,
   "metadata": {},
   "outputs": [
    {
     "name": "stdout",
     "output_type": "stream",
     "text": [
      "Benzersiz dosya uzantıları:\n",
      ".JPG\n",
      ".pdf\n",
      ".jpg\n",
      ".txt\n"
     ]
    }
   ],
   "source": [
    "import os\n",
    "\n",
    "def list_unique_extensions(directory):\n",
    "    extensions = set()\n",
    "    \n",
    "    # Klasördeki tüm dosyaları kontrol et\n",
    "    for root, _, files in os.walk(directory):\n",
    "        for file in files:\n",
    "            ext = os.path.splitext(file)[1]  # Dosya uzantısını al\n",
    "            if ext:  # Boş olmayan uzantıları ekle\n",
    "                extensions.add(ext)\n",
    "    \n",
    "    return extensions\n",
    "\n",
    "def convert_heic_to_jpg(directory):\n",
    "    for root, _, files in os.walk(directory):\n",
    "        for file in files:\n",
    "            if file.lower().endswith(('.heic', '.HEIC')):\n",
    "                old_path = os.path.join(root, file)\n",
    "                new_path = os.path.splitext(old_path)[0] + \".jpg\"\n",
    "                os.rename(old_path, new_path)\n",
    "                print(f\"{old_path} -> {new_path}\")\n",
    "\n",
    "# Kullanım\n",
    "unique_extensions = list_unique_extensions(path)\n",
    "\n",
    "print(\"Benzersiz dosya uzantıları:\")\n",
    "print(\"\\n\".join(unique_extensions))\n",
    "\n",
    "# convert_heic_to_jpg(path)"
   ]
  },
  {
   "cell_type": "code",
   "execution_count": 5,
   "metadata": {},
   "outputs": [
    {
     "name": "stdout",
     "output_type": "stream",
     "text": [
      "Dosya uzantıları ve sayıları:\n",
      ".txt: 531\n",
      ".jpg: 531\n"
     ]
    }
   ],
   "source": [
    "import os\n",
    "from collections import defaultdict\n",
    "\n",
    "def list_extensions_count(directory):\n",
    "    extensions_count = defaultdict(int)\n",
    "    \n",
    "    # Klasördeki tüm dosyaları kontrol et\n",
    "    for root, _, files in os.walk(directory):\n",
    "        for file in files:\n",
    "            ext = os.path.splitext(file)[1]  # Dosya uzantısını al\n",
    "            if ext:  # Boş olmayan uzantıları say\n",
    "                extensions_count[ext] += 1\n",
    "    \n",
    "    return extensions_count\n",
    "def count_files_by_startwith(directory):\n",
    "    files_count = defaultdict(int)\n",
    "    \n",
    "    # Klasördeki tüm dosyaları kontrol et\n",
    "    for root, _, files in os.walk(directory):\n",
    "        for file in files:\n",
    "            start = file[0]  # Dosya adının ilk harfini al\n",
    "            files_count[start] += 1\n",
    "    \n",
    "    return files_count\n",
    "   \n",
    "# Kullanım\n",
    "extensions_count = list_extensions_count(path)\n",
    "\n",
    "print(\"Dosya uzantıları ve sayıları:\")\n",
    "for ext, count in extensions_count.items():\n",
    "    print(f\"{ext}: {count}\")\n",
    "\n"
   ]
  },
  {
   "cell_type": "code",
   "execution_count": null,
   "metadata": {},
   "outputs": [],
   "source": [
    "import os\n",
    "import unicodedata\n",
    "from collections import defaultdict\n",
    "\n",
    "def normalize_filename(filename):\n",
    "    # Türkçe karakterleri kaldır ve ASCII'ye çevir\n",
    "    normalized = unicodedata.normalize('NFKD', filename).encode('ascii', 'ignore').decode('ascii')\n",
    "    normalized = normalized.replace(\" \", \"_\")  # Boşlukları alt çizgiye çevir\n",
    "    return normalized\n",
    "\n",
    "def rename_files(directory):\n",
    "    for root, _, files in os.walk(directory):\n",
    "        for file in files:\n",
    "            old_path = os.path.join(root, file)\n",
    "            new_filename = normalize_filename(file)\n",
    "            new_path = os.path.join(root, new_filename)\n",
    "            if old_path != new_path:\n",
    "                os.rename(old_path, new_path)\n",
    "                print(f\"{old_path} -> {new_path}\")\n",
    "\n",
    "def list_extensions_count(directory):\n",
    "    extensions_count = defaultdict(int)\n",
    "    \n",
    "    for root, _, files in os.walk(directory):\n",
    "        for file in files:\n",
    "            ext = os.path.splitext(file)[1]  # Dosya uzantısını al\n",
    "            if ext:\n",
    "                extensions_count[ext] += 1\n",
    "    \n",
    "    return extensions_count\n",
    "\n",
    "# Kullanım\n",
    "rename_files(path)\n",
    "extensions_count = list_extensions_count(path)\n",
    "\n",
    "print(\"Dosya uzantıları ve sayıları:\")\n",
    "for ext, count in extensions_count.items():\n",
    "    print(f\"{ext}: {count}\")\n"
   ]
  },
  {
   "cell_type": "code",
   "execution_count": 4,
   "metadata": {},
   "outputs": [
    {
     "name": "stdout",
     "output_type": "stream",
     "text": [
      "Tüm dosyalar başarıyla .jpg olarak yeniden adlandırıldı.\n"
     ]
    }
   ],
   "source": [
    "import os\n",
    "\n",
    "# Klasör yolunu belirleyin\n",
    "folder_path = \"./alldata/\"\n",
    "\n",
    "# Klasördeki tüm dosyaları listele\n",
    "for filename in os.listdir(folder_path):\n",
    "    # Eğer dosya bir JPG uzantısına sahipse (büyük ya da küçük harf)\n",
    "    if filename.lower().endswith('.jpg'):\n",
    "        # Yeni dosya adını küçük harflerle oluştur\n",
    "        new_filename = filename.lower()\n",
    "        \n",
    "        # Eski ve yeni dosya yolunu oluştur\n",
    "        old_file = os.path.join(folder_path, filename)\n",
    "        new_file = os.path.join(folder_path, new_filename)\n",
    "        \n",
    "        # Dosyayı yeniden adlandır\n",
    "        if old_file != new_file:  # Aynı isimse yeniden adlandırma\n",
    "            os.rename(old_file, new_file)\n",
    "\n",
    "print(\"Tüm dosyalar başarıyla .jpg olarak yeniden adlandırıldı.\")\n"
   ]
  },
  {
   "cell_type": "code",
   "execution_count": 6,
   "metadata": {},
   "outputs": [
    {
     "name": "stdout",
     "output_type": "stream",
     "text": [
      "Tüm dosyalar başarıyla küçük harflerle yeniden adlandırıldı.\n"
     ]
    }
   ],
   "source": [
    "import os\n",
    "\n",
    "# Klasör yolunu belirleyin\n",
    "folder_path = \"./alldata/\"\n",
    "\n",
    "# Klasördeki tüm dosyaları listele\n",
    "for filename in os.listdir(folder_path):\n",
    "    # Yeni dosya adını küçük harflerle oluştur\n",
    "    new_filename = filename.lower()\n",
    "    \n",
    "    # Eski ve yeni dosya yolunu oluştur\n",
    "    old_file = os.path.join(folder_path, filename)\n",
    "    new_file = os.path.join(folder_path, new_filename)\n",
    "    \n",
    "    # Dosyayı yeniden adlandır\n",
    "    if old_file != new_file:  # Aynı isimse yeniden adlandırma\n",
    "        os.rename(old_file, new_file)\n",
    "\n",
    "print(\"Tüm dosyalar başarıyla küçük harflerle yeniden adlandırıldı.\")\n"
   ]
  },
  {
   "cell_type": "code",
   "execution_count": null,
   "metadata": {},
   "outputs": [],
   "source": []
  }
 ],
 "metadata": {
  "kernelspec": {
   "display_name": "Python 3",
   "language": "python",
   "name": "python3"
  },
  "language_info": {
   "codemirror_mode": {
    "name": "ipython",
    "version": 3
   },
   "file_extension": ".py",
   "mimetype": "text/x-python",
   "name": "python",
   "nbconvert_exporter": "python",
   "pygments_lexer": "ipython3",
   "version": "3.13.0"
  }
 },
 "nbformat": 4,
 "nbformat_minor": 2
}
